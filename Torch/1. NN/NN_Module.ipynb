{
 "cells": [
  {
   "cell_type": "code",
   "execution_count": 2,
   "metadata": {
    "collapsed": true
   },
   "outputs": [],
   "source": [
    "import torch"
   ]
  },
  {
   "cell_type": "markdown",
   "metadata": {},
   "source": [
    "## 定义网络"
   ]
  },
  {
   "cell_type": "code",
   "execution_count": 43,
   "metadata": {
    "collapsed": true
   },
   "outputs": [],
   "source": [
    "import torch.nn as nn\n",
    "import torch.nn.functional as F\n",
    "\n",
    "class FCN_bike(nn.Module):\n",
    "    def __init__(self):\n",
    "        super(FCN_bike, self).__init__()\n",
    "        \n",
    "        self.fcn1 = nn.Linear(42, 10)\n",
    "        self.fcn2 = nn.Linear(10, 5)\n",
    "        self.fcn3 = nn.Linear(5, 1)\n",
    "    \n",
    "    def forward(self, x):\n",
    "        x = F.relu(self.fcn1(x))\n",
    "        x = F.relu(self.fcn2(x))\n",
    "        x = self.fcn3(x)\n",
    "        \n",
    "        return x\n",
    "    \n",
    "net = FCN_bike()"
   ]
  },
  {
   "cell_type": "code",
   "execution_count": 20,
   "metadata": {},
   "outputs": [],
   "source": [
    "\n",
    "if torch.cuda.is_available():\n",
    "    net = net.cuda()"
   ]
  },
  {
   "cell_type": "code",
   "execution_count": 21,
   "metadata": {},
   "outputs": [
    {
     "name": "stdout",
     "output_type": "stream",
     "text": [
      "FCN_bike(\n",
      "  (fcn1): Linear(in_features=42, out_features=10, bias=True)\n",
      "  (fcn2): Linear(in_features=10, out_features=5, bias=True)\n",
      "  (fcn3): Linear(in_features=5, out_features=1, bias=True)\n",
      ")\n"
     ]
    }
   ],
   "source": [
    "print(net)"
   ]
  },
  {
   "cell_type": "markdown",
   "metadata": {},
   "source": [
    "## net可以同时接受多组输入"
   ]
  },
  {
   "cell_type": "code",
   "execution_count": 38,
   "metadata": {},
   "outputs": [
    {
     "name": "stdout",
     "output_type": "stream",
     "text": [
      "tensor([[ 2.0589, -0.4924, -0.9984,  0.7141, -1.0351, -0.5947,  1.0667,  0.1224,\n",
      "         -0.6808,  0.5301, -0.2535, -0.1832,  0.5065, -1.9843,  0.7782,  1.1797,\n",
      "          2.3038, -0.1793, -1.6182,  0.9733,  0.8994, -0.7409,  0.2211,  0.3096,\n",
      "         -1.0403, -0.2431, -0.0071,  1.1980,  2.7531, -0.1794, -0.8129, -1.6648,\n",
      "          0.6323,  0.1344,  0.6255,  1.2481,  0.8456, -0.3780, -2.0814, -0.0530,\n",
      "         -1.1754, -0.3826],\n",
      "        [ 1.6786, -1.3441,  0.2625, -0.0537, -0.0059, -0.1923, -0.2612,  0.1628,\n",
      "          0.4285,  0.5944,  0.3934,  0.1465,  1.5695, -0.5141, -0.4421,  0.0811,\n",
      "         -0.4932,  0.3933, -1.1581, -0.3453,  1.3575, -0.4732,  0.7676, -0.1661,\n",
      "          0.5141, -0.0403,  0.6297,  0.5054, -0.6945, -0.7180, -0.9210,  0.7365,\n",
      "         -0.7545,  0.4595, -1.2209,  1.3154,  0.3910,  1.8533,  0.4001,  0.1187,\n",
      "         -0.8256,  1.6847],\n",
      "        [-0.7726, -0.5517, -0.3480, -1.5099, -1.1125, -2.0796,  0.2018,  0.6297,\n",
      "         -0.8407,  0.1914, -0.8252,  1.1017, -0.0371,  0.7752,  0.6007, -0.0523,\n",
      "         -0.0130,  1.2398, -0.8560,  1.5476,  0.0937,  0.2772,  0.6032,  0.0782,\n",
      "          0.2919,  1.7816,  1.9206,  1.2185,  1.9613, -0.7020, -1.7175, -0.6600,\n",
      "         -0.5465, -0.1901,  1.2443,  0.8022,  2.0007,  0.8679, -0.7660, -0.9946,\n",
      "          1.0350, -0.9490],\n",
      "        [-0.5775,  0.9259, -0.5680, -0.1546,  0.9654,  0.1825, -0.3496,  0.1254,\n",
      "         -0.4178,  1.5800,  0.4046,  0.6568, -0.8677,  0.4746,  0.5283, -0.8647,\n",
      "          0.6040, -0.3995,  0.2855,  0.3301, -0.0012, -0.2566, -1.1050, -0.9526,\n",
      "         -0.2322, -0.1792, -1.1641,  0.1053,  0.8812,  0.2651,  1.5392, -0.1560,\n",
      "         -0.6245, -0.6872,  0.7042, -2.7281, -0.5614,  1.0659, -0.7843,  0.6994,\n",
      "          0.9430, -1.0373],\n",
      "        [-1.1212,  0.9064, -0.3436,  0.5959,  0.7688,  0.7570,  0.4989,  0.1185,\n",
      "          0.6691,  1.1251, -1.1797, -1.5943,  0.6885, -0.7964,  0.2828, -0.3177,\n",
      "          0.6362,  0.1728, -0.4948,  0.0515, -0.9730, -0.0483, -1.2602,  0.1974,\n",
      "          1.1699,  1.1325, -0.0594, -1.3931,  1.0635, -1.2841,  0.0275,  1.6647,\n",
      "         -0.6342, -0.6429,  0.7211, -1.0524,  0.0093,  1.0637,  1.1056,  0.0096,\n",
      "         -1.0658, -0.3100]])\n"
     ]
    }
   ],
   "source": [
    "x = torch.randn(5, 42)\n",
    "print(x)"
   ]
  },
  {
   "cell_type": "code",
   "execution_count": 39,
   "metadata": {},
   "outputs": [
    {
     "name": "stdout",
     "output_type": "stream",
     "text": [
      "tensor([[-0.0085],\n",
      "        [-0.1262],\n",
      "        [-0.1009],\n",
      "        [-0.0725],\n",
      "        [-0.1820]], grad_fn=<ThAddmmBackward>)\n"
     ]
    }
   ],
   "source": [
    "output = net.forward(x)\n",
    "print(output)"
   ]
  },
  {
   "cell_type": "code",
   "execution_count": null,
   "metadata": {
    "collapsed": true
   },
   "outputs": [],
   "source": []
  }
 ],
 "metadata": {
  "kernelspec": {
   "display_name": "Python 3",
   "language": "python",
   "name": "python3"
  },
  "language_info": {
   "codemirror_mode": {
    "name": "ipython",
    "version": 3
   },
   "file_extension": ".py",
   "mimetype": "text/x-python",
   "name": "python",
   "nbconvert_exporter": "python",
   "pygments_lexer": "ipython3",
   "version": "3.6.3"
  }
 },
 "nbformat": 4,
 "nbformat_minor": 2
}
