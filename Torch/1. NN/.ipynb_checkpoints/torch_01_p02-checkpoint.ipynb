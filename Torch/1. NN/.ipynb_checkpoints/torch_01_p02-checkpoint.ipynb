{
 "cells": [
  {
   "cell_type": "markdown",
   "metadata": {},
   "source": [
    "# Torch序列建模"
   ]
  },
  {
   "cell_type": "markdown",
   "metadata": {},
   "source": [
    "## 导入数据"
   ]
  },
  {
   "cell_type": "code",
   "execution_count": null,
   "metadata": {
    "collapsed": true
   },
   "outputs": [],
   "source": [
    "import torch\n"
   ]
  },
  {
   "cell_type": "markdown",
   "metadata": {},
   "source": [
    "### 变量预处理"
   ]
  },
  {
   "cell_type": "markdown",
   "metadata": {},
   "source": [
    "#### 1. 类型变量\n",
    "比如周一～周日，数值并没有「大小」的含义，所以使用「one-hot编码」来表示。即：\n",
    "\n",
    "* 周一：`1,0,0,0,0,0,0`;\n",
    "* 周二：`0,1,0,0,0,0,0`;\n",
    "* ……\n",
    "\n",
    "#### 2. 数值归一化\n",
    "\n",
    "为了加快收敛、提高精度，要求：\n",
    "\n",
    "1. $\\bar x = 0$\n",
    "\n",
    "2. $\\sigma (x) = 1$\n",
    "\n",
    "即：\n",
    "\n",
    "$$x' = \\frac{x - \\bar x}{\\sigma(x)}$$\n",
    "\n",
    "归一化成一个标准正态分布。\n",
    "\n",
    "### 数据batch处理（分批）\n",
    "\n",
    "数据数量很大的时候，需要将训练集切分，进而降低训练时间，可以加快收敛。同时，还会提高精度。\n",
    "\n",
    "分批之后，随机拿来一个数据集，进行bp，称为「随机梯度下降」"
   ]
  },
  {
   "cell_type": "markdown",
   "metadata": {},
   "source": [
    "## 序列化建模\n",
    "\n",
    "例如下面的代码：\n",
    "\n",
    "```python\n",
    "neu = torch.nn.Sequential(\n",
    "    torch.nn.Linear(input_size, hidden_size),\n",
    "    torch.nn.Sigmoid(),\n",
    "    torch.nn.Linear(hidden_size, output_size)\n",
    ")\n",
    "```"
   ]
  },
  {
   "cell_type": "code",
   "execution_count": null,
   "metadata": {
    "collapsed": true
   },
   "outputs": [],
   "source": []
  }
 ],
 "metadata": {
  "kernelspec": {
   "display_name": "Python 3",
   "language": "python",
   "name": "python3"
  },
  "language_info": {
   "codemirror_mode": {
    "name": "ipython",
    "version": 3
   },
   "file_extension": ".py",
   "mimetype": "text/x-python",
   "name": "python",
   "nbconvert_exporter": "python",
   "pygments_lexer": "ipython3",
   "version": "3.6.1"
  }
 },
 "nbformat": 4,
 "nbformat_minor": 2
}
