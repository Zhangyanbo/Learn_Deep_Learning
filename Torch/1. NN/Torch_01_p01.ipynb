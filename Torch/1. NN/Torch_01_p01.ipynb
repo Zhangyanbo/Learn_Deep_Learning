{
 "cells": [
  {
   "cell_type": "code",
   "execution_count": 1,
   "metadata": {
    "collapsed": true
   },
   "outputs": [],
   "source": [
    "import torch"
   ]
  },
  {
   "cell_type": "markdown",
   "metadata": {},
   "source": [
    "![](img_1.png)"
   ]
  },
  {
   "cell_type": "code",
   "execution_count": 2,
   "metadata": {
    "collapsed": true
   },
   "outputs": [],
   "source": [
    "import numpy as np\n",
    "import pandas as pd\n",
    "import matplotlib.pyplot as plt\n",
    "from torch.autograd import Variable\n",
    "\n",
    "%matplotlib inline"
   ]
  },
  {
   "cell_type": "code",
   "execution_count": 3,
   "metadata": {},
   "outputs": [
    {
     "data": {
      "text/html": [
       "<div>\n",
       "<style>\n",
       "    .dataframe thead tr:only-child th {\n",
       "        text-align: right;\n",
       "    }\n",
       "\n",
       "    .dataframe thead th {\n",
       "        text-align: left;\n",
       "    }\n",
       "\n",
       "    .dataframe tbody tr th {\n",
       "        vertical-align: top;\n",
       "    }\n",
       "</style>\n",
       "<table border=\"1\" class=\"dataframe\">\n",
       "  <thead>\n",
       "    <tr style=\"text-align: right;\">\n",
       "      <th></th>\n",
       "      <th>instant</th>\n",
       "      <th>dteday</th>\n",
       "      <th>season</th>\n",
       "      <th>yr</th>\n",
       "      <th>mnth</th>\n",
       "      <th>hr</th>\n",
       "      <th>holiday</th>\n",
       "      <th>weekday</th>\n",
       "      <th>workingday</th>\n",
       "      <th>weathersit</th>\n",
       "      <th>temp</th>\n",
       "      <th>atemp</th>\n",
       "      <th>hum</th>\n",
       "      <th>windspeed</th>\n",
       "      <th>casual</th>\n",
       "      <th>registered</th>\n",
       "      <th>cnt</th>\n",
       "    </tr>\n",
       "  </thead>\n",
       "  <tbody>\n",
       "    <tr>\n",
       "      <th>0</th>\n",
       "      <td>1</td>\n",
       "      <td>2011-01-01</td>\n",
       "      <td>1</td>\n",
       "      <td>0</td>\n",
       "      <td>1</td>\n",
       "      <td>0</td>\n",
       "      <td>0</td>\n",
       "      <td>6</td>\n",
       "      <td>0</td>\n",
       "      <td>1</td>\n",
       "      <td>0.24</td>\n",
       "      <td>0.2879</td>\n",
       "      <td>0.81</td>\n",
       "      <td>0.0</td>\n",
       "      <td>3</td>\n",
       "      <td>13</td>\n",
       "      <td>16</td>\n",
       "    </tr>\n",
       "    <tr>\n",
       "      <th>1</th>\n",
       "      <td>2</td>\n",
       "      <td>2011-01-01</td>\n",
       "      <td>1</td>\n",
       "      <td>0</td>\n",
       "      <td>1</td>\n",
       "      <td>1</td>\n",
       "      <td>0</td>\n",
       "      <td>6</td>\n",
       "      <td>0</td>\n",
       "      <td>1</td>\n",
       "      <td>0.22</td>\n",
       "      <td>0.2727</td>\n",
       "      <td>0.80</td>\n",
       "      <td>0.0</td>\n",
       "      <td>8</td>\n",
       "      <td>32</td>\n",
       "      <td>40</td>\n",
       "    </tr>\n",
       "    <tr>\n",
       "      <th>2</th>\n",
       "      <td>3</td>\n",
       "      <td>2011-01-01</td>\n",
       "      <td>1</td>\n",
       "      <td>0</td>\n",
       "      <td>1</td>\n",
       "      <td>2</td>\n",
       "      <td>0</td>\n",
       "      <td>6</td>\n",
       "      <td>0</td>\n",
       "      <td>1</td>\n",
       "      <td>0.22</td>\n",
       "      <td>0.2727</td>\n",
       "      <td>0.80</td>\n",
       "      <td>0.0</td>\n",
       "      <td>5</td>\n",
       "      <td>27</td>\n",
       "      <td>32</td>\n",
       "    </tr>\n",
       "    <tr>\n",
       "      <th>3</th>\n",
       "      <td>4</td>\n",
       "      <td>2011-01-01</td>\n",
       "      <td>1</td>\n",
       "      <td>0</td>\n",
       "      <td>1</td>\n",
       "      <td>3</td>\n",
       "      <td>0</td>\n",
       "      <td>6</td>\n",
       "      <td>0</td>\n",
       "      <td>1</td>\n",
       "      <td>0.24</td>\n",
       "      <td>0.2879</td>\n",
       "      <td>0.75</td>\n",
       "      <td>0.0</td>\n",
       "      <td>3</td>\n",
       "      <td>10</td>\n",
       "      <td>13</td>\n",
       "    </tr>\n",
       "    <tr>\n",
       "      <th>4</th>\n",
       "      <td>5</td>\n",
       "      <td>2011-01-01</td>\n",
       "      <td>1</td>\n",
       "      <td>0</td>\n",
       "      <td>1</td>\n",
       "      <td>4</td>\n",
       "      <td>0</td>\n",
       "      <td>6</td>\n",
       "      <td>0</td>\n",
       "      <td>1</td>\n",
       "      <td>0.24</td>\n",
       "      <td>0.2879</td>\n",
       "      <td>0.75</td>\n",
       "      <td>0.0</td>\n",
       "      <td>0</td>\n",
       "      <td>1</td>\n",
       "      <td>1</td>\n",
       "    </tr>\n",
       "  </tbody>\n",
       "</table>\n",
       "</div>"
      ],
      "text/plain": [
       "   instant      dteday  season  yr  mnth  hr  holiday  weekday  workingday  \\\n",
       "0        1  2011-01-01       1   0     1   0        0        6           0   \n",
       "1        2  2011-01-01       1   0     1   1        0        6           0   \n",
       "2        3  2011-01-01       1   0     1   2        0        6           0   \n",
       "3        4  2011-01-01       1   0     1   3        0        6           0   \n",
       "4        5  2011-01-01       1   0     1   4        0        6           0   \n",
       "\n",
       "   weathersit  temp   atemp   hum  windspeed  casual  registered  cnt  \n",
       "0           1  0.24  0.2879  0.81        0.0       3          13   16  \n",
       "1           1  0.22  0.2727  0.80        0.0       8          32   40  \n",
       "2           1  0.22  0.2727  0.80        0.0       5          27   32  \n",
       "3           1  0.24  0.2879  0.75        0.0       3          10   13  \n",
       "4           1  0.24  0.2879  0.75        0.0       0           1    1  "
      ]
     },
     "execution_count": 3,
     "metadata": {},
     "output_type": "execute_result"
    }
   ],
   "source": [
    "data_path = 'hour.csv'\n",
    "rides = pd.read_csv(data_path)\n",
    "\n",
    "rides.head()"
   ]
  },
  {
   "cell_type": "code",
   "execution_count": 4,
   "metadata": {
    "collapsed": true
   },
   "outputs": [],
   "source": [
    "counts = rides['cnt'][:50]\n",
    "x = Variable(torch.FloatTensor(np.arange(len(counts), dtype = float) / len(counts)))\n",
    "y = Variable(torch.FloatTensor(np.array(counts, dtype = float)))\n",
    "size = 10"
   ]
  },
  {
   "cell_type": "code",
   "execution_count": 5,
   "metadata": {
    "collapsed": true,
    "scrolled": true
   },
   "outputs": [],
   "source": [
    "w1 = Variable(torch.randn(1,size), requires_grad = True)\n",
    "b1 = Variable(torch.randn(size), requires_grad = True)\n",
    "w2 = Variable(torch.randn(1,size), requires_grad = True)"
   ]
  },
  {
   "cell_type": "code",
   "execution_count": 6,
   "metadata": {
    "collapsed": true
   },
   "outputs": [],
   "source": [
    "alpha = 0.0001\n",
    "losses = []"
   ]
  },
  {
   "cell_type": "code",
   "execution_count": 15,
   "metadata": {
    "collapsed": true
   },
   "outputs": [],
   "source": [
    "h = x.expand(size, len(x)).t() * w1.expand(len(x),size) + b1.expand(len(x),size)\n",
    "h = torch.sigmoid(h)"
   ]
  },
  {
   "cell_type": "code",
   "execution_count": 84,
   "metadata": {},
   "outputs": [
    {
     "name": "stdout",
     "output_type": "stream",
     "text": [
      "torch.Size([50]) torch.Size([1, 10])\n"
     ]
    }
   ],
   "source": [
    "print(x.size(),w1.size())"
   ]
  },
  {
   "cell_type": "code",
   "execution_count": 96,
   "metadata": {
    "collapsed": true
   },
   "outputs": [
    {
     "data": {
      "text/plain": [
       "Variable containing:\n",
       " 1.9741\n",
       " 1.9742\n",
       " 1.9744\n",
       " 1.9746\n",
       " 1.9747\n",
       " 1.9748\n",
       " 1.9749\n",
       " 1.9750\n",
       " 1.9750\n",
       " 1.9751\n",
       " 1.9751\n",
       " 1.9751\n",
       " 1.9752\n",
       " 1.9752\n",
       " 1.9752\n",
       " 1.9751\n",
       " 1.9751\n",
       " 1.9751\n",
       " 1.9750\n",
       " 1.9750\n",
       " 1.9750\n",
       " 1.9749\n",
       " 1.9749\n",
       " 1.9748\n",
       " 1.9747\n",
       " 1.9747\n",
       " 1.9746\n",
       " 1.9746\n",
       " 1.9746\n",
       " 1.9745\n",
       " 1.9745\n",
       " 1.9745\n",
       " 1.9744\n",
       " 1.9744\n",
       " 1.9744\n",
       " 1.9744\n",
       " 1.9744\n",
       " 1.9744\n",
       " 1.9745\n",
       " 1.9745\n",
       " 1.9746\n",
       " 1.9746\n",
       " 1.9747\n",
       " 1.9748\n",
       " 1.9749\n",
       " 1.9750\n",
       " 1.9751\n",
       " 1.9752\n",
       " 1.9754\n",
       " 1.9755\n",
       "[torch.FloatTensor of size 50x1]"
      ]
     },
     "execution_count": 96,
     "metadata": {},
     "output_type": "execute_result"
    }
   ],
   "source": [
    "hidden.mm(w2)"
   ]
  },
  {
   "cell_type": "code",
   "execution_count": 69,
   "metadata": {
    "collapsed": true
   },
   "outputs": [],
   "source": [
    "pr = h.mm(w2)+b2"
   ]
  },
  {
   "cell_type": "code",
   "execution_count": 9,
   "metadata": {},
   "outputs": [
    {
     "name": "stdout",
     "output_type": "stream",
     "text": [
      "loss: Variable containing:\n",
      " 1010.9458\n",
      "[torch.FloatTensor of size 1]\n",
      "\n",
      "loss: Variable containing:\n",
      " 1010.9457\n",
      "[torch.FloatTensor of size 1]\n",
      "\n",
      "loss: Variable containing:\n",
      " 1010.9457\n",
      "[torch.FloatTensor of size 1]\n",
      "\n",
      "loss: Variable containing:\n",
      " 1010.9457\n",
      "[torch.FloatTensor of size 1]\n",
      "\n",
      "loss: Variable containing:\n",
      " 1010.9457\n",
      "[torch.FloatTensor of size 1]\n",
      "\n",
      "loss: Variable containing:\n",
      " 1010.9457\n",
      "[torch.FloatTensor of size 1]\n",
      "\n",
      "loss: Variable containing:\n",
      " 1010.9457\n",
      "[torch.FloatTensor of size 1]\n",
      "\n",
      "loss: Variable containing:\n",
      " 1010.9457\n",
      "[torch.FloatTensor of size 1]\n",
      "\n",
      "loss: Variable containing:\n",
      " 1010.9456\n",
      "[torch.FloatTensor of size 1]\n",
      "\n",
      "loss: Variable containing:\n",
      " 1010.9456\n",
      "[torch.FloatTensor of size 1]\n",
      "\n",
      "loss: Variable containing:\n",
      " 1010.9456\n",
      "[torch.FloatTensor of size 1]\n",
      "\n",
      "loss: Variable containing:\n",
      " 1010.9456\n",
      "[torch.FloatTensor of size 1]\n",
      "\n",
      "loss: Variable containing:\n",
      " 1010.9456\n",
      "[torch.FloatTensor of size 1]\n",
      "\n",
      "loss: Variable containing:\n",
      " 1010.9456\n",
      "[torch.FloatTensor of size 1]\n",
      "\n",
      "loss: Variable containing:\n",
      " 1010.9456\n",
      "[torch.FloatTensor of size 1]\n",
      "\n",
      "loss: Variable containing:\n",
      " 1010.9456\n",
      "[torch.FloatTensor of size 1]\n",
      "\n",
      "loss: Variable containing:\n",
      " 1010.9456\n",
      "[torch.FloatTensor of size 1]\n",
      "\n",
      "loss: Variable containing:\n",
      " 1010.9456\n",
      "[torch.FloatTensor of size 1]\n",
      "\n",
      "loss: Variable containing:\n",
      " 1010.9456\n",
      "[torch.FloatTensor of size 1]\n",
      "\n",
      "loss: Variable containing:\n",
      " 1010.9456\n",
      "[torch.FloatTensor of size 1]\n",
      "\n",
      "Finished\n"
     ]
    }
   ],
   "source": [
    "alpha = 0.01\n",
    "losses = []\n",
    "\n",
    "for i in range(100000):\n",
    "    hidden = x.expand(size, len(x)).t() * w1.expand(len(x),size) + b1.expand(len(x),size)\n",
    "    hidden = torch.sigmoid(hidden)\n",
    "    predictions = hidden.mm(w2.t())\n",
    "    loss = torch.mean((predictions - y) ** 2)\n",
    "    if i % 5000 == 0:\n",
    "        print('loss:',loss)\n",
    "    loss.backward()\n",
    "    w1.data.add_(-alpha * w1.grad.data)\n",
    "    w2.data.add_(-10.0 * alpha * w2.grad.data)\n",
    "    b1.data.add_(-alpha * b1.grad.data)\n",
    "    \n",
    "    w1.grad.data.zero_()\n",
    "    w2.grad.data.zero_()\n",
    "    b1.grad.data.zero_()\n",
    "\n",
    "print('Finished')"
   ]
  },
  {
   "cell_type": "code",
   "execution_count": 113,
   "metadata": {},
   "outputs": [],
   "source": [
    "def cnt(xin):\n",
    "    x2 = torch.FloatTensor([[xin]])\n",
    "    #print('x2 = ', x2)\n",
    "    #print('x2_expand.T = ', x2.expand(size, 1).t())\n",
    "    #print('xin = ', xin)\n",
    "    #print('w2=',w2)\n",
    "    #print('x * w1 = ', x2.expand(size, 1).t() * w1.data)\n",
    "    #print('b1=',b1.expand(1,size))\n",
    "    h = x2 * w1.data + b1.data.expand(1,size)\n",
    "    #print('h=',h)\n",
    "    h = torch.sigmoid(h)\n",
    "    pr = h.mm(w2.data.t())\n",
    "    return(pr)"
   ]
  },
  {
   "cell_type": "code",
   "execution_count": 117,
   "metadata": {},
   "outputs": [
    {
     "data": {
      "text/plain": [
       "\n",
       " 35.8787\n",
       "[torch.FloatTensor of size 1x1]"
      ]
     },
     "execution_count": 117,
     "metadata": {},
     "output_type": "execute_result"
    }
   ],
   "source": [
    "cnt(5./50.)"
   ]
  },
  {
   "cell_type": "code",
   "execution_count": 79,
   "metadata": {},
   "outputs": [
    {
     "data": {
      "text/plain": [
       "\n",
       " 1  4  9\n",
       "[torch.FloatTensor of size 1x3]"
      ]
     },
     "execution_count": 79,
     "metadata": {},
     "output_type": "execute_result"
    }
   ],
   "source": [
    "torch.FloatTensor([[1,2,3]]) * torch.FloatTensor([[1,2,3]])"
   ]
  },
  {
   "cell_type": "code",
   "execution_count": 92,
   "metadata": {},
   "outputs": [
    {
     "data": {
      "text/plain": [
       "\n",
       "-0.1417  1.9111  0.0469  0.1012  0.2862  0.6632 -0.1032  0.0144 -1.7580  1.7800\n",
       "[torch.FloatTensor of size 1x10]"
      ]
     },
     "execution_count": 92,
     "metadata": {},
     "output_type": "execute_result"
    }
   ],
   "source": [
    "w1.data"
   ]
  },
  {
   "cell_type": "code",
   "execution_count": null,
   "metadata": {
    "collapsed": true
   },
   "outputs": [],
   "source": []
  }
 ],
 "metadata": {
  "kernelspec": {
   "display_name": "Python 3",
   "language": "python",
   "name": "python3"
  },
  "language_info": {
   "codemirror_mode": {
    "name": "ipython",
    "version": 3
   },
   "file_extension": ".py",
   "mimetype": "text/x-python",
   "name": "python",
   "nbconvert_exporter": "python",
   "pygments_lexer": "ipython3",
   "version": "3.6.1"
  }
 },
 "nbformat": 4,
 "nbformat_minor": 2
}
