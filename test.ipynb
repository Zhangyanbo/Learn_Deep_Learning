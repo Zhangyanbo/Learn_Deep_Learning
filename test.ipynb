{
 "cells": [
  {
   "cell_type": "code",
   "execution_count": 1,
   "metadata": {},
   "outputs": [],
   "source": [
    "import torch"
   ]
  },
  {
   "cell_type": "code",
   "execution_count": 2,
   "metadata": {},
   "outputs": [
    {
     "data": {
      "text/plain": [
       "True"
      ]
     },
     "execution_count": 2,
     "metadata": {},
     "output_type": "execute_result"
    }
   ],
   "source": [
    "torch.cuda.is_available()"
   ]
  },
  {
   "cell_type": "code",
   "execution_count": 3,
   "metadata": {},
   "outputs": [
    {
     "data": {
      "text/plain": [
       "'GeForce RTX 2080'"
      ]
     },
     "execution_count": 3,
     "metadata": {},
     "output_type": "execute_result"
    }
   ],
   "source": [
    "torch.cuda.get_device_name(0)"
   ]
  },
  {
   "cell_type": "code",
   "execution_count": 6,
   "metadata": {},
   "outputs": [
    {
     "data": {
      "text/plain": [
       "1"
      ]
     },
     "execution_count": 6,
     "metadata": {},
     "output_type": "execute_result"
    }
   ],
   "source": [
    "torch.cuda.device_count()"
   ]
  },
  {
   "cell_type": "code",
   "execution_count": 4,
   "metadata": {},
   "outputs": [],
   "source": [
    "x = torch.tensor([1,2,3,4])"
   ]
  },
  {
   "cell_type": "code",
   "execution_count": 5,
   "metadata": {},
   "outputs": [
    {
     "data": {
      "text/plain": [
       "tensor([1, 2, 3, 4])"
      ]
     },
     "execution_count": 5,
     "metadata": {},
     "output_type": "execute_result"
    }
   ],
   "source": [
    "x"
   ]
  },
  {
   "cell_type": "code",
   "execution_count": 8,
   "metadata": {},
   "outputs": [],
   "source": [
    "x = x.cuda()"
   ]
  },
  {
   "cell_type": "code",
   "execution_count": 9,
   "metadata": {},
   "outputs": [
    {
     "data": {
      "text/plain": [
       "tensor([1, 2, 3, 4], device='cuda:0')"
      ]
     },
     "execution_count": 9,
     "metadata": {},
     "output_type": "execute_result"
    }
   ],
   "source": [
    "x"
   ]
  },
  {
   "cell_type": "code",
   "execution_count": 10,
   "metadata": {},
   "outputs": [
    {
     "data": {
      "text/plain": [
       "tensor([ 1,  4,  9, 16], device='cuda:0')"
      ]
     },
     "execution_count": 10,
     "metadata": {},
     "output_type": "execute_result"
    }
   ],
   "source": [
    "x * x"
   ]
  },
  {
   "cell_type": "code",
   "execution_count": 1,
   "metadata": {},
   "outputs": [],
   "source": [
    "import jieba"
   ]
  },
  {
   "cell_type": "code",
   "execution_count": 17,
   "metadata": {},
   "outputs": [
    {
     "name": "stdout",
     "output_type": "stream",
     "text": [
      "Full Mode: 我/ 膜/ 蛤/ 我/ 快乐\n"
     ]
    }
   ],
   "source": [
    "seg_list = jieba.cut(u\"我膜蛤我快乐\", cut_all=True)\n",
    "print(\"Full Mode: \" + \"/ \".join(seg_list))"
   ]
  },
  {
   "cell_type": "code",
   "execution_count": 18,
   "metadata": {},
   "outputs": [
    {
     "name": "stdout",
     "output_type": "stream",
     "text": [
      "Full Mode: 苟利国家生死以/ 利国/ 国家/ 生死/ 以/ / / 岂因祸福避趋之/ 祸福/ 避/ 趋/ 之\n"
     ]
    }
   ],
   "source": [
    "seg_list = jieba.cut(u\"苟利国家生死以，岂因祸福避趋之\", cut_all=True)\n",
    "print(\"Full Mode: \" + \"/ \".join(seg_list))"
   ]
  },
  {
   "cell_type": "code",
   "execution_count": 15,
   "metadata": {},
   "outputs": [],
   "source": [
    "text = u\"我的这个经历就是到了上海，到了89年的年初的时候，我在想我估计是快要离休了，我想我应该去当教授。于是我就给朱物华校长、张钟俊这个...院长，给他们写了一个报告。他们说欢迎你来，不过，这个Apply for Professor（申请当教授），你要去做一个报告。我就做了一个能源与发展趋势的主要的节能措施，这个报告经过好几百个教授一致通过。那么上海交大教授当了以后我就做第二个报告，就是微电子工业的发展。这两个报告做了以后不久，过后，1989年的5月31号北京就把我调到北京去了。现在这个报告做了快20年了，所以呢我就去年呢在我们交大的学报，我发表了两篇文章，就是呼应这个89年的报告的。特别是昨天晚上，他又把我这个第二篇报告，还有我这十几年包括在电子工业部、上海市所做的有关于信息产业化的文章，总共我听他们讲是27篇……我也没有什么别的东西送给你们，我们拿来以后我叫钱秘书啊，就把这两个学报，两个学报的英文本──因为他们这里洋文好的人多得很哪──英文本，还有前面出过两本书，再加上昨天晚上出的这本书，送给郭伟华同志，给你送过来，那么给你们作为一个纪念。\""
   ]
  },
  {
   "cell_type": "code",
   "execution_count": 16,
   "metadata": {},
   "outputs": [
    {
     "name": "stdout",
     "output_type": "stream",
     "text": [
      "我/ 的/ 这个/ 经历/ 就是/ 到/ 了/ 上海/ ，/ 到/ 了/ 89/ 年/ 的/ 年初/ 的/ 时候/ ，/ 我/ 在/ 想/ 我/ 估计/ 是/ 快要/ 离休/ 了/ ，/ 我/ 想/ 我/ 应该/ 去/ 当/ 教授/ 。/ 于是/ 我/ 就/ 给/ 朱/ 物华/ 校长/ 、/ 张钟俊/ 这个/ .../ 院长/ ，/ 给/ 他们/ 写/ 了/ 一个/ 报告/ 。/ 他们/ 说/ 欢迎/ 你/ 来/ ，/ 不过/ ，/ 这个/ Apply/  / for/  / Professor/ （/ 申请/ 当/ 教授/ ）/ ，/ 你/ 要/ 去/ 做/ 一个/ 报告/ 。/ 我/ 就/ 做/ 了/ 一个/ 能源/ 与/ 发展趋势/ 的/ 主要/ 的/ 节能/ 措施/ ，/ 这个/ 报告/ 经过/ 好几百个/ 教授/ 一致/ 通过/ 。/ 那么/ 上海交大/ 教授/ 当/ 了/ 以后/ 我/ 就/ 做/ 第二个/ 报告/ ，/ 就是/ 微电子/ 工业/ 的/ 发展/ 。/ 这/ 两个/ 报告/ 做/ 了/ 以后/ 不久/ ，/ 过后/ ，/ 1989/ 年/ 的/ 5/ 月/ 31/ 号/ 北京/ 就/ 把/ 我/ 调到/ 北京/ 去/ 了/ 。/ 现在/ 这个/ 报告/ 做/ 了/ 快/ 20/ 年/ 了/ ，/ 所以/ 呢/ 我/ 就/ 去年/ 呢/ 在/ 我们/ 交大/ 的/ 学报/ ，/ 我/ 发表/ 了/ 两篇/ 文章/ ，/ 就是/ 呼应/ 这个/ 89/ 年/ 的/ 报告/ 的/ 。/ 特别/ 是/ 昨天晚上/ ，/ 他/ 又/ 把/ 我/ 这个/ 第二篇/ 报告/ ，/ 还有/ 我/ 这/ 十几年/ 包括/ 在/ 电子/ 工业部/ 、/ 上海市/ 所/ 做/ 的/ 有/ 关于/ 信息/ 产业化/ 的/ 文章/ ，/ 总共/ 我/ 听/ 他们/ 讲/ 是/ 27/ 篇/ …/ …/ 我/ 也/ 没有/ 什么/ 别的/ 东西/ 送给/ 你们/ ，/ 我们/ 拿来/ 以后/ 我/ 叫/ 钱/ 秘书/ 啊/ ，/ 就/ 把/ 这/ 两个/ 学报/ ，/ 两个/ 学报/ 的/ 英文/ 本/ ─/ ─/ 因为/ 他们/ 这里/ 洋文/ 好/ 的/ 人/ 多得很/ 哪/ ─/ ─/ 英文/ 本/ ，/ 还有/ 前面/ 出过/ 两本书/ ，/ 再/ 加上/ 昨天晚上/ 出/ 的/ 这/ 本书/ ，/ 送给/ 郭伟华/ 同志/ ，/ 给/ 你/ 送过来/ ，/ 那么/ 给/ 你们/ 作为/ 一个/ 纪念/ 。\n"
     ]
    }
   ],
   "source": [
    "seg_list = jieba.cut(text)\n",
    "print(\"/ \".join(seg_list))"
   ]
  },
  {
   "cell_type": "code",
   "execution_count": null,
   "metadata": {},
   "outputs": [],
   "source": []
  }
 ],
 "metadata": {
  "kernelspec": {
   "display_name": "Python 3",
   "language": "python",
   "name": "python3"
  },
  "language_info": {
   "codemirror_mode": {
    "name": "ipython",
    "version": 3
   },
   "file_extension": ".py",
   "mimetype": "text/x-python",
   "name": "python",
   "nbconvert_exporter": "python",
   "pygments_lexer": "ipython3",
   "version": "3.7.1"
  }
 },
 "nbformat": 4,
 "nbformat_minor": 2
}
